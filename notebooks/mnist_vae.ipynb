{
 "cells": [
  {
   "cell_type": "code",
   "execution_count": 1,
   "metadata": {},
   "outputs": [
    {
     "name": "stderr",
     "output_type": "stream",
     "text": [
      "C:\\Users\\wtais\\Anaconda3\\envs\\hackthewind\\lib\\site-packages\\h5py\\__init__.py:36: FutureWarning: Conversion of the second argument of issubdtype from `float` to `np.floating` is deprecated. In future, it will be treated as `np.float64 == np.dtype(float).type`.\n",
      "  from ._conv import register_converters as _register_converters\n"
     ]
    },
    {
     "name": "stdout",
     "output_type": "stream",
     "text": [
      "Extracting /tmp/data/train-images-idx3-ubyte.gz\n",
      "Extracting /tmp/data/train-labels-idx1-ubyte.gz\n",
      "Extracting /tmp/data/t10k-images-idx3-ubyte.gz\n",
      "Extracting /tmp/data/t10k-labels-idx1-ubyte.gz\n"
     ]
    }
   ],
   "source": [
    "import time\n",
    "import tensorflow as tf\n",
    "from tensorflow.examples.tutorials.mnist import input_data\n",
    "import numpy as np\n",
    "import matplotlib.pyplot as plt\n",
    "\n",
    "\n",
    "mnist = input_data.read_data_sets(\"/tmp/data/\", one_hot = True)"
   ]
  },
  {
   "cell_type": "code",
   "execution_count": 2,
   "metadata": {},
   "outputs": [],
   "source": [
    "class VAE():\n",
    "    \n",
    "    def __init__(self,beta=1,latent_dim=20,batch_size=1000,learning_rate=1e-4,network_type='fully_connected'):\n",
    "        self.beta=beta\n",
    "        self.network_type = network_type\n",
    "        self.latent_dim = latent_dim\n",
    "        self.batch_size = batch_size\n",
    "        self.learning_rate = learning_rate\n",
    "        self.x = tf.placeholder('float', [None, 784], name='x')\n",
    "        self._build_network()\n",
    "        self._vae_loss_and_optimizer()\n",
    "        \n",
    "        # Initializing the tensorflow variables\n",
    "        init = tf.global_variables_initializer()\n",
    "\n",
    "        # Launch the session\n",
    "        self.sess = tf.InteractiveSession()\n",
    "        self.sess.run(init)\n",
    "        \n",
    "    def _build_network(self):\n",
    "        if self.network_type is 'fully_connected':\n",
    "            self._initialize_weights_fc()\n",
    "            self._encoder_fc(self.x)\n",
    "            self._sample_z()\n",
    "            self._decoder_fc()\n",
    "  \n",
    "    def _initialize_weights_fc(self):\n",
    "        encoder_hl1_nodes = 512\n",
    "        encoder_out_nodes = 512\n",
    "        decoder_hl1_nodes = 512\n",
    "        decoder_out_nodes = 512\n",
    "        initializer = tf.contrib.layers.xavier_initializer()\n",
    "        \n",
    "        self.encoder_input = {'weights':tf.Variable(initializer([784, encoder_hl1_nodes]), name='encoder_input_w'),\n",
    "                          'biases':tf.Variable(initializer([encoder_hl1_nodes]), name='encoder_input_b')}\n",
    "\n",
    "        self.encoder_hidden_1 = {'weights':tf.Variable(initializer([encoder_hl1_nodes, encoder_out_nodes]), name='encoder_h1_w'),\n",
    "                          'biases':tf.Variable(initializer([encoder_out_nodes]), name='encoder_h1_b')}\n",
    "\n",
    "        self.encoder_output_mu = {'weights':tf.Variable(initializer([encoder_out_nodes, self.latent_dim]), name='encoder_out_mu_w'),\n",
    "                        'biases':tf.Variable(initializer([self.latent_dim]), name='encoder_out_mu_b')}\n",
    "\n",
    "        self.encoder_output_log_sigma = {'weights':tf.Variable(initializer([encoder_out_nodes, self.latent_dim]), name='encoder_out_log_sigma_w'),\n",
    "                        'biases':tf.Variable(initializer([self.latent_dim]), name='encoder_out_log_sigma_b')}\n",
    "        \n",
    "        self.decoder_input = {'weights':tf.Variable(initializer([self.latent_dim, decoder_hl1_nodes]), name='decoder_input_w'),\n",
    "                          'biases':tf.Variable(initializer([encoder_hl1_nodes]), name='decoder_input_b')}\n",
    "\n",
    "        self.decoder_hidden_1 = {'weights':tf.Variable(initializer([decoder_hl1_nodes, decoder_out_nodes]), name='decoder_h1_w'),\n",
    "                          'biases':tf.Variable(initializer([encoder_out_nodes]), name='decoder_h1_b')}\n",
    "\n",
    "        self.decoder_output = {'weights':tf.Variable(initializer([decoder_out_nodes, 784]), name='decoder_output_w'),\n",
    "                        'biases':tf.Variable(initializer([784]), name='decoder_output_b')}\n",
    "        \n",
    "    def _encoder_fc(self, data):\n",
    "        l1 = tf.add(tf.matmul(data,self.encoder_input['weights']), self.encoder_input['biases'])\n",
    "        l1 = tf.nn.relu(l1)\n",
    "        l1 = tf.layers.batch_normalization(l1)\n",
    "\n",
    "        self.z_mu = tf.add(tf.matmul(l1,self.encoder_output_mu['weights']), self.encoder_output_mu['biases'])\n",
    "        self.z_log_sigma = tf.add(tf.matmul(l1,self.encoder_output_log_sigma['weights']), self.encoder_output_log_sigma['biases'])\n",
    "        \n",
    "    def _decoder_fc(self):\n",
    "        l1 = tf.add(tf.matmul(self.z,self.decoder_input['weights']), self.decoder_input['biases'])\n",
    "        l1 = tf.nn.relu(l1)\n",
    "        l1 = tf.layers.batch_normalization(l1)\n",
    "\n",
    "        out = tf.add(tf.matmul(l1,self.decoder_output['weights']), self.decoder_output['biases'])\n",
    "        self.x_reconstruction_mean = tf.nn.sigmoid(out)\n",
    "\n",
    "    def _sample_z(self):\n",
    "        # sample z using reparameterization trick\n",
    "        epsilon = tf.random_normal(shape=[self.batch_size, self.latent_dim],mean=0.0, stddev=1.0, name='epsilon', dtype='float32')\n",
    "        self.z = tf.add(self.z_mu,tf.multiply(epsilon, tf.exp(0.5 * self.z_log_sigma)), name='z')\n",
    "        \n",
    "    def _vae_loss_and_optimizer(self):\n",
    "        self.recon = tf.reduce_mean(tf.reduce_sum(tf.keras.backend.binary_crossentropy(self.x, self.x_reconstruction_mean)))\n",
    "        # KL divergence between q(z|x) and p(z)\n",
    "        self.kl = tf.reduce_mean(0.5 * tf.reduce_sum(tf.exp(self.z_log_sigma) + tf.square(self.z_mu) - 1 - self.z_log_sigma, 1))\n",
    "\n",
    "        self.loss = self.recon + self.beta*self.kl\n",
    "        self.optimizer = tf.train.AdamOptimizer(self.learning_rate).minimize(self.loss)\n",
    "\n",
    "    def fit(self, x_batch):\n",
    "        return self.sess.run([self.optimizer, self.loss, self.recon, self.kl], \\\n",
    "                             feed_dict={self.x: x_batch})\n",
    "                \n",
    "    def reconstruct_X(self, x_true):\n",
    "        return self.sess.run(self.x_reconstruction_mean, feed_dict={self.x: x_true})\n",
    "    \n",
    "    def generate(self, z_mu=None):\n",
    "        if z_mu is None:\n",
    "            z_mu = np.random.normal(size=[self.batch_size, self.latent_dim])\n",
    "        return self.sess.run(self.x_reconstruction_mean, \n",
    "                             feed_dict={self.z: z_mu})"
   ]
  },
  {
   "cell_type": "markdown",
   "metadata": {},
   "source": [
    "#### Instantiate VAE and Saver"
   ]
  },
  {
   "cell_type": "code",
   "execution_count": 6,
   "metadata": {},
   "outputs": [],
   "source": [
    "vae = VAE(beta=1,batch_size=1000,learning_rate=1e-4,network_type='fully_connected',latent_dim=2)\n",
    "saver = tf.train.Saver()"
   ]
  },
  {
   "cell_type": "markdown",
   "metadata": {},
   "source": [
    "#### Training"
   ]
  },
  {
   "cell_type": "code",
   "execution_count": 7,
   "metadata": {},
   "outputs": [],
   "source": [
    "def draw_digits(digits, n_rows):\n",
    "    n = n_rows**2\n",
    "    n_cols = n_rows\n",
    "    for i in range(0, n):\n",
    "        plt.figsize=(12,12)\n",
    "        plt.subplot(n_rows, n_cols, i+1)\n",
    "        img = digits[int(n_rows*i)].reshape(28,28)\n",
    "        plt.imshow(img, cmap='gray', interpolation='none')\n",
    "        plt.axis('off')\n",
    "        plt.subplots_adjust(hspace=0.0, wspace=0.0)"
   ]
  },
  {
   "cell_type": "code",
   "execution_count": null,
   "metadata": {
    "scrolled": true
   },
   "outputs": [],
   "source": [
    "list_of_latent_spaces = []\n",
    "hm_epochs = 1000\n",
    "\n",
    "# for plotting latent space every 50 epochs\n",
    "MM = vae.batch_size\n",
    "grid_max = 100.0\n",
    "z_test1 = np.linspace(grid_max,-grid_max,MM)\n",
    "z_test2 = np.linspace(grid_max,-grid_max,MM)\n",
    "zz = np.array([z_test1,z_test2])\n",
    "zz = np.transpose(zz)\n",
    "\n",
    "history_loss = []\n",
    "history_recon = []\n",
    "history_kl = []\n",
    "epoch_loss = 0\n",
    "recon_loss = 0\n",
    "kl_loss = 0\n"
   ]
  },
  {
   "cell_type": "code",
   "execution_count": 57,
   "metadata": {
    "scrolled": true
   },
   "outputs": [
    {
     "name": "stdout",
     "output_type": "stream",
     "text": [
      "Epoch 1 / 1000 ; average loss: 521470.24994830316; Reconstruction loss :  519998.4484593739; KL loss 1471.801535505225\n",
      "Epoch 11 / 1000 ; average loss: 522704.3576782753; Reconstruction loss :  521228.4375217313; KL loss 1475.9202033735446\n",
      "Epoch 21 / 1000 ; average loss: 523938.561544469; Reconstruction loss :  522458.52317485586; KL loss 1480.0384162375406\n",
      "Epoch 31 / 1000 ; average loss: 525172.3439564011; Reconstruction loss :  523688.1854446002; KL loss 1484.1585561345578\n",
      "Epoch 41 / 1000 ; average loss: 526406.2775750087; Reconstruction loss :  524917.9991816749; KL loss 1488.2784390147501\n",
      "Epoch 51 / 1000 ; average loss: 527639.9511196094; Reconstruction loss :  526147.5543904821; KL loss 1492.396774834623\n",
      "Epoch 61 / 1000 ; average loss: 528873.6335081046; Reconstruction loss :  527377.1155678979; KL loss 1496.517985724402\n",
      "Epoch 71 / 1000 ; average loss: 530107.1252069683; Reconstruction loss :  528606.4877921876; KL loss 1500.6374596002418\n",
      "Epoch 81 / 1000 ; average loss: 531340.572412507; Reconstruction loss :  529835.8155038349; KL loss 1504.756952837547\n",
      "Epoch 91 / 1000 ; average loss: 532573.5980855175; Reconstruction loss :  531064.7211487212; KL loss 1508.8769806457187\n",
      "Epoch 101 / 1000 ; average loss: 533806.751132392; Reconstruction loss :  532293.7541964481; KL loss 1512.9969780528343\n",
      "Epoch 111 / 1000 ; average loss: 535039.7548818234; Reconstruction loss :  533522.6371656236; KL loss 1517.1177581831164\n",
      "Epoch 121 / 1000 ; average loss: 536272.6674473052; Reconstruction loss :  534751.4294815328; KL loss 1521.2380062765992\n",
      "Epoch 131 / 1000 ; average loss: 537505.2681420497; Reconstruction loss :  535979.9086136355; KL loss 1525.359569477949\n",
      "Epoch 141 / 1000 ; average loss: 538737.8663282708; Reconstruction loss :  537208.3864196031; KL loss 1529.4799499894214\n",
      "Epoch 151 / 1000 ; average loss: 539970.4212846627; Reconstruction loss :  538436.8199224442; KL loss 1533.6014021228782\n",
      "Epoch 161 / 1000 ; average loss: 541202.8162054018; Reconstruction loss :  539665.093910797; KL loss 1537.722335029151\n",
      "Epoch 171 / 1000 ; average loss: 542435.1050546924; Reconstruction loss :  540893.2628875017; KL loss 1541.8422080388493\n",
      "Epoch 181 / 1000 ; average loss: 543667.0701082428; Reconstruction loss :  542121.1060134965; KL loss 1545.9641344826096\n",
      "Epoch 191 / 1000 ; average loss: 544899.083296878; Reconstruction loss :  543348.9976965925; KL loss 1550.0856404779245\n",
      "Epoch 201 / 1000 ; average loss: 546131.0532106564; Reconstruction loss :  544576.8471607969; KL loss 1554.2060902171377\n",
      "Epoch 211 / 1000 ; average loss: 547362.8831627876; Reconstruction loss :  545804.555540627; KL loss 1558.3276629510704\n",
      "Epoch 221 / 1000 ; average loss: 548594.4825556864; Reconstruction loss :  547032.0339524166; KL loss 1562.4486445339908\n",
      "Epoch 231 / 1000 ; average loss: 549826.0368562543; Reconstruction loss :  548259.4670156278; KL loss 1566.569883517699\n",
      "Epoch 241 / 1000 ; average loss: 551057.494229977; Reconstruction loss :  549486.8027066793; KL loss 1570.691565657146\n",
      "Epoch 251 / 1000 ; average loss: 552288.7445278462; Reconstruction loss :  550713.9330386393; KL loss 1574.8115328962483\n",
      "Epoch 261 / 1000 ; average loss: 553519.9441250053; Reconstruction loss :  551941.0105440376; KL loss 1578.9336244273431\n",
      "Epoch 271 / 1000 ; average loss: 554751.085151568; Reconstruction loss :  553168.0305715937; KL loss 1583.0546216435853\n",
      "Epoch 281 / 1000 ; average loss: 555981.8509366527; Reconstruction loss :  554394.673888497; KL loss 1587.1770903003683\n",
      "Epoch 291 / 1000 ; average loss: 557212.78897543; Reconstruction loss :  555621.4911461677; KL loss 1591.2978719493178\n",
      "Epoch 301 / 1000 ; average loss: 558443.4671921913; Reconstruction loss :  556848.0469092363; KL loss 1595.420325713523\n",
      "Epoch 311 / 1000 ; average loss: 559674.0949948909; Reconstruction loss :  558074.5533123618; KL loss 1599.5417250526807\n",
      "Epoch 321 / 1000 ; average loss: 560904.4569478738; Reconstruction loss :  559300.7923017087; KL loss 1603.6646886024853\n",
      "Epoch 331 / 1000 ; average loss: 562134.8524555446; Reconstruction loss :  560527.0664532718; KL loss 1607.7860450772062\n",
      "Epoch 341 / 1000 ; average loss: 563365.125249721; Reconstruction loss :  561753.2163737258; KL loss 1611.9089189519418\n",
      "Epoch 351 / 1000 ; average loss: 564595.319541197; Reconstruction loss :  562979.2890000049; KL loss 1616.030584166894\n",
      "Epoch 361 / 1000 ; average loss: 565825.3957974482; Reconstruction loss :  564205.2432082434; KL loss 1620.1526310252445\n",
      "Epoch 371 / 1000 ; average loss: 567055.1247556888; Reconstruction loss :  565430.849076852; KL loss 1624.2757205416242\n",
      "Epoch 381 / 1000 ; average loss: 568284.9540426203; Reconstruction loss :  566656.5555971635; KL loss 1628.39848657001\n",
      "Epoch 391 / 1000 ; average loss: 569514.6067082455; Reconstruction loss :  567882.0844430439; KL loss 1632.522305568589\n",
      "Epoch 401 / 1000 ; average loss: 570744.0738136442; Reconstruction loss :  569107.4278524192; KL loss 1636.6460024580133\n",
      "Epoch 411 / 1000 ; average loss: 571973.5361264279; Reconstruction loss :  570332.7663477317; KL loss 1640.7698202136935\n",
      "Epoch 421 / 1000 ; average loss: 573202.9816058326; Reconstruction loss :  571558.0885274182; KL loss 1644.8931198990836\n",
      "Epoch 431 / 1000 ; average loss: 574432.1012475932; Reconstruction loss :  572783.0833329574; KL loss 1649.017955958657\n",
      "Epoch 441 / 1000 ; average loss: 575661.1446657756; Reconstruction loss :  574008.0014336683; KL loss 1653.1432735756216\n",
      "Epoch 451 / 1000 ; average loss: 576890.0938174796; Reconstruction loss :  575232.8262581; KL loss 1657.2676010597536\n",
      "Epoch 461 / 1000 ; average loss: 578119.0624826767; Reconstruction loss :  576457.6714799742; KL loss 1661.3910432361567\n",
      "Epoch 471 / 1000 ; average loss: 579347.5984464556; Reconstruction loss :  577682.0822620767; KL loss 1665.5162242181589\n",
      "Epoch 481 / 1000 ; average loss: 580576.4350798344; Reconstruction loss :  578906.7949277015; KL loss 1669.6401914722396\n",
      "Epoch 491 / 1000 ; average loss: 581804.967147023; Reconstruction loss :  580131.2022982972; KL loss 1673.7648872896675\n",
      "Epoch 501 / 1000 ; average loss: 583033.2309822507; Reconstruction loss :  581355.34113253; KL loss 1677.8898882157368\n",
      "Epoch 511 / 1000 ; average loss: 584261.488171881; Reconstruction loss :  582579.4720843772; KL loss 1682.0161251281324\n",
      "Epoch 521 / 1000 ; average loss: 585489.7509025624; Reconstruction loss :  583803.6096088089; KL loss 1686.1413320256606\n",
      "Epoch 531 / 1000 ; average loss: 586717.9128740109; Reconstruction loss :  585027.6468282697; KL loss 1690.2660843061556\n",
      "Epoch 541 / 1000 ; average loss: 587945.8630255733; Reconstruction loss :  586251.4723873613; KL loss 1694.3906773520298\n",
      "Epoch 551 / 1000 ; average loss: 589173.7292992943; Reconstruction loss :  587475.2141616517; KL loss 1698.515178091108\n",
      "Epoch 561 / 1000 ; average loss: 590401.3619522795; Reconstruction loss :  588698.7215606578; KL loss 1702.6404319601822\n",
      "Epoch 571 / 1000 ; average loss: 591629.0671103768; Reconstruction loss :  589922.3021698917; KL loss 1706.7649807311561\n",
      "Epoch 581 / 1000 ; average loss: 592856.5026477352; Reconstruction loss :  591145.612373302; KL loss 1710.890312670854\n",
      "Epoch 591 / 1000 ; average loss: 594083.9557822531; Reconstruction loss :  592368.9394519972; KL loss 1715.016369086202\n",
      "Epoch 601 / 1000 ; average loss: 595311.2790511446; Reconstruction loss :  593592.1367152072; KL loss 1719.1423741149472\n",
      "Epoch 611 / 1000 ; average loss: 596538.5346244402; Reconstruction loss :  594815.2664566839; KL loss 1723.2682057810957\n",
      "Epoch 621 / 1000 ; average loss: 597765.4245784181; Reconstruction loss :  596038.029872451; KL loss 1727.3947427528647\n",
      "Epoch 631 / 1000 ; average loss: 598992.7311752938; Reconstruction loss :  597261.2130227342; KL loss 1731.518190122806\n",
      "Epoch 641 / 1000 ; average loss: 600219.5365886466; Reconstruction loss :  598483.8927208886; KL loss 1735.6439049737694\n",
      "Epoch 651 / 1000 ; average loss: 601446.308390351; Reconstruction loss :  599706.5389079623; KL loss 1739.7695187427446\n",
      "Epoch 661 / 1000 ; average loss: 602672.9501913455; Reconstruction loss :  600929.0549771374; KL loss 1743.895250938232\n",
      "Epoch 671 / 1000 ; average loss: 603899.5811139293; Reconstruction loss :  602151.559494183; KL loss 1748.0216565845371\n",
      "Epoch 681 / 1000 ; average loss: 605126.0907230204; Reconstruction loss :  603373.9436829606; KL loss 1752.1470782753217\n"
     ]
    },
    {
     "name": "stdout",
     "output_type": "stream",
     "text": [
      "Epoch 691 / 1000 ; average loss: 606352.4404626513; Reconstruction loss :  604596.167950859; KL loss 1756.27255035063\n",
      "Epoch 701 / 1000 ; average loss: 607578.6916061157; Reconstruction loss :  605818.2934301199; KL loss 1760.3982154546134\n",
      "Epoch 711 / 1000 ; average loss: 608804.9071021399; Reconstruction loss :  607040.3824066833; KL loss 1764.5247354236526\n",
      "Epoch 721 / 1000 ; average loss: 610030.9942642124; Reconstruction loss :  608262.3439193247; KL loss 1768.6503863702528\n",
      "Epoch 731 / 1000 ; average loss: 611256.9610737303; Reconstruction loss :  609484.1849997231; KL loss 1772.7761144075835\n",
      "Epoch 741 / 1000 ; average loss: 612482.7927355211; Reconstruction loss :  610705.890501997; KL loss 1776.9022754610496\n",
      "Epoch 751 / 1000 ; average loss: 613708.6067662023; Reconstruction loss :  611927.5801727361; KL loss 1781.0266363613753\n",
      "Epoch 761 / 1000 ; average loss: 614934.2909579636; Reconstruction loss :  613149.1377887867; KL loss 1785.1532130992125\n",
      "Epoch 771 / 1000 ; average loss: 616159.8604315427; Reconstruction loss :  614370.5819608037; KL loss 1789.2785138222016\n",
      "Epoch 781 / 1000 ; average loss: 617385.3504528488; Reconstruction loss :  615591.9468089575; KL loss 1793.40368713874\n",
      "Epoch 791 / 1000 ; average loss: 618610.6690534183; Reconstruction loss :  616813.1403166289; KL loss 1797.52877983172\n",
      "Epoch 801 / 1000 ; average loss: 619835.9351656338; Reconstruction loss :  618034.281277282; KL loss 1801.6539306163024\n",
      "Epoch 811 / 1000 ; average loss: 621061.1555288432; Reconstruction loss :  619255.3761333904; KL loss 1805.7794368474376\n",
      "Epoch 821 / 1000 ; average loss: 622286.2515485875; Reconstruction loss :  620476.347976005; KL loss 1809.9036134853984\n",
      "Epoch 831 / 1000 ; average loss: 623511.1843028475; Reconstruction loss :  621697.1560179082; KL loss 1814.028325133679\n",
      "Epoch 841 / 1000 ; average loss: 624736.2142965964; Reconstruction loss :  622918.0631140741; KL loss 1818.1512216580052\n",
      "Epoch 851 / 1000 ; average loss: 625960.8909849474; Reconstruction loss :  624138.615010098; KL loss 1822.2760140796572\n",
      "Epoch 861 / 1000 ; average loss: 627185.5965298336; Reconstruction loss :  625359.1961683375; KL loss 1826.4004008816364\n",
      "Epoch 871 / 1000 ; average loss: 628410.2240948897; Reconstruction loss :  626579.6996271438; KL loss 1830.5245066855261\n",
      "Epoch 881 / 1000 ; average loss: 629634.7492785553; Reconstruction loss :  627800.101731974; KL loss 1834.6475851084908\n",
      "Epoch 891 / 1000 ; average loss: 630859.133482107; Reconstruction loss :  629020.3624314051; KL loss 1838.771088103098\n",
      "Epoch 901 / 1000 ; average loss: 632083.3302340945; Reconstruction loss :  630240.4350011504; KL loss 1842.895270427318\n",
      "Epoch 911 / 1000 ; average loss: 633307.4700179012; Reconstruction loss :  631460.4540789925; KL loss 1847.015976918683\n",
      "Epoch 921 / 1000 ; average loss: 634531.5897161961; Reconstruction loss :  632680.4511990219; KL loss 1851.1385565606843\n",
      "Epoch 931 / 1000 ; average loss: 635755.5978062521; Reconstruction loss :  633900.3357561252; KL loss 1855.26209100615\n",
      "Epoch 941 / 1000 ; average loss: 636979.6729413386; Reconstruction loss :  635120.2888294203; KL loss 1859.3841534678672\n",
      "Epoch 951 / 1000 ; average loss: 638203.3694951748; Reconstruction loss :  636339.8620740237; KL loss 1863.5074633439117\n",
      "Epoch 961 / 1000 ; average loss: 639427.0990833844; Reconstruction loss :  637559.4695831144; KL loss 1867.6295414489357\n",
      "Epoch 971 / 1000 ; average loss: 640650.5915241517; Reconstruction loss :  638778.8412669225; KL loss 1871.750299249227\n",
      "Epoch 981 / 1000 ; average loss: 641874.1411474469; Reconstruction loss :  639998.2676423483; KL loss 1875.8735475835228\n",
      "Epoch 991 / 1000 ; average loss: 643097.5954575326; Reconstruction loss :  641217.5997098213; KL loss 1879.9957907065223\n"
     ]
    }
   ],
   "source": [
    "for epoch in range(hm_epochs):\n",
    "\n",
    "    for _ in range(int(mnist.train.num_examples/vae.batch_size)):\n",
    "        epoch_x, _ = mnist.train.next_batch(vae.batch_size)\n",
    "        _, c, recon, kl = vae.fit(np.rint(epoch_x).astype(np.float32))\n",
    "        epoch_loss += c/(int(mnist.train.num_examples/vae.batch_size) * vae.batch_size)\n",
    "        recon_loss += recon/(int(mnist.train.num_examples/vae.batch_size) * vae.batch_size)\n",
    "        kl_loss += kl/(int(mnist.train.num_examples/vae.batch_size) * vae.batch_size)\n",
    "        history_loss.append(epoch_loss)\n",
    "        history_recon.append(recon_loss)\n",
    "        history_kl.append(kl_loss)\n",
    "        \n",
    "    if epoch % 10 is 0:\n",
    "        print('Epoch', epoch+1, '/',hm_epochs,'; average loss:',epoch_loss, end='; ')\n",
    "        print('Reconstruction loss : ', recon_loss, end='; ')\n",
    "        print('KL loss', kl_loss)\n",
    "\n",
    "#     if epoch % 10 is 0:\n",
    "#         x_gen = vae.generate(zz)\n",
    "#         list_of_latent_spaces.append(x_gen)\n",
    "\n",
    "#         plt.close()\n",
    "#         fig = plt.figure(figsize=(5,5))\n",
    "#         draw_digits(x_gen,10)\n",
    "#         plt.show()"
   ]
  },
  {
   "cell_type": "markdown",
   "metadata": {},
   "source": [
    "#### Only use this section if saving model"
   ]
  },
  {
   "cell_type": "code",
   "execution_count": 58,
   "metadata": {},
   "outputs": [
    {
     "data": {
      "text/plain": [
       "'saved_models/vae-fc-20181028-210159'"
      ]
     },
     "execution_count": 58,
     "metadata": {},
     "output_type": "execute_result"
    }
   ],
   "source": [
    "timestr = time.strftime(\"%Y%m%d-%H%M%S\")\n",
    "filename = 'saved_models/vae-fc-'\n",
    "saved_filename = filename+timestr\n",
    "saver.save(vae.sess,filename+timestr)"
   ]
  },
  {
   "cell_type": "markdown",
   "metadata": {},
   "source": [
    "#### Restoring model weights"
   ]
  },
  {
   "cell_type": "code",
   "execution_count": 24,
   "metadata": {},
   "outputs": [
    {
     "name": "stdout",
     "output_type": "stream",
     "text": [
      "INFO:tensorflow:Restoring parameters from saved_models/vae-fc-20181028-114411\n"
     ]
    }
   ],
   "source": [
    "saver.restore(vae.sess, 'saved_models/vae-fc-20181028-114411')"
   ]
  },
  {
   "cell_type": "markdown",
   "metadata": {},
   "source": [
    "#### Visualise data reconstruction"
   ]
  },
  {
   "cell_type": "code",
   "execution_count": 61,
   "metadata": {
    "scrolled": true
   },
   "outputs": [],
   "source": [
    "test_epoch, _ = mnist.train.next_batch(vae.batch_size)\n",
    "x_tst = vae.reconstruct_X(np.rint(test_epoch).astype(np.float32))"
   ]
  },
  {
   "cell_type": "code",
   "execution_count": 62,
   "metadata": {},
   "outputs": [
    {
     "data": {
      "image/png": "[encoded data removed]",
      "text/plain": [
       "<Figure size 1080x432 with 10 Axes>"
      ]
     },
     "metadata": {
      "needs_background": "light"
     },
     "output_type": "display_data"
    }
   ],
   "source": [
    "fig, axs = plt.subplots(2,5, figsize=(15, 6))\n",
    "axs = axs.ravel()\n",
    "n = 0\n",
    "j = 0\n",
    "\n",
    "for i in range(n,n+5):\n",
    "    axs[j].imshow(x_tst[i,:].reshape([28,28]),cmap='gray')\n",
    "    axs[j+5].imshow(test_epoch[i,:].reshape([28,28]),cmap='gray')\n",
    "    j += 1\n",
    "    \n",
    "plt.show()"
   ]
  },
  {
   "cell_type": "code",
   "execution_count": null,
   "metadata": {},
   "outputs": [],
   "source": []
  }
 ],
 "metadata": {
  "kernelspec": {
   "display_name": "Python 3",
   "language": "python",
   "name": "python3"
  },
  "language_info": {
   "codemirror_mode": {
    "name": "ipython",
    "version": 3
   },
   "file_extension": ".py",
   "mimetype": "text/x-python",
   "name": "python",
   "nbconvert_exporter": "python",
   "pygments_lexer": "ipython3",
   "version": "3.6.6"
  }
 },
 "nbformat": 4,
 "nbformat_minor": 1
}
