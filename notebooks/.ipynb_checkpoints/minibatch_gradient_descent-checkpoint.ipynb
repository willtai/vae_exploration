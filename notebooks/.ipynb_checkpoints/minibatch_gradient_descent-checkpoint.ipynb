{
 "cells": [
  {
   "cell_type": "code",
   "execution_count": 1,
   "metadata": {},
   "outputs": [
    {
     "name": "stderr",
     "output_type": "stream",
     "text": [
      "C:\\Users\\wtais\\Anaconda3\\envs\\hackthewind\\lib\\site-packages\\h5py\\__init__.py:36: FutureWarning: Conversion of the second argument of issubdtype from `float` to `np.floating` is deprecated. In future, it will be treated as `np.float64 == np.dtype(float).type`.\n",
      "  from ._conv import register_converters as _register_converters\n"
     ]
    }
   ],
   "source": [
    "import tensorflow as tf\n",
    "import numpy as np\n",
    "import matplotlib.pyplot as plt\n",
    "\n",
    "# np.random.seed(0)\n",
    "# tf.set_random_seed(0)"
   ]
  },
  {
   "cell_type": "code",
   "execution_count": 2,
   "metadata": {},
   "outputs": [],
   "source": [
    "mnist = tf.keras.datasets.mnist\n",
    "\n",
    "(x_train, y_train),(x_test, y_test) = mnist.load_data()\n",
    "x_train, x_test = x_train / 255.0, x_test / 255.0\n",
    "\n",
    "n_samples = len(x_train)"
   ]
  },
  {
   "cell_type": "code",
   "execution_count": 3,
   "metadata": {},
   "outputs": [
    {
     "name": "stdout",
     "output_type": "stream",
     "text": [
      "(60000, 28, 28) (60000,)\n",
      "(10000, 28, 28) (10000,)\n"
     ]
    }
   ],
   "source": [
    "print(x_train.shape, y_train.shape)\n",
    "print(x_test.shape, y_test.shape)"
   ]
  },
  {
   "cell_type": "code",
   "execution_count": 4,
   "metadata": {
    "scrolled": true
   },
   "outputs": [
    {
     "data": {
      "image/png": "[encoded data removed]",
      "text/plain": [
       "<Figure size 432x288 with 1 Axes>"
      ]
     },
     "metadata": {
      "needs_background": "light"
     },
     "output_type": "display_data"
    }
   ],
   "source": [
    "plt.imshow(x_train[3])\n",
    "plt.title(y_train[3])\n",
    "plt.show()"
   ]
  },
  {
   "cell_type": "code",
   "execution_count": 5,
   "metadata": {},
   "outputs": [],
   "source": [
    "x = tf.placeholder(tf.float32, [None, 784])\n",
    "W = tf.Variable(tf.zeros([784, 10]))\n",
    "b = tf.Variable(tf.zeros([10]))\n",
    "y = tf.matmul(x, W) + b\n",
    "y_ = tf.placeholder(tf.float32, [None, 10])\n",
    "\n",
    "loss = tf.reduce_mean(tf.nn.softmax_cross_entropy_with_logits(labels=y_, logits=y))"
   ]
  },
  {
   "cell_type": "code",
   "execution_count": 6,
   "metadata": {},
   "outputs": [],
   "source": [
    "y_train_cat = np.zeros([len(y_train),10])\n",
    "for indx, i in enumerate(y_train):\n",
    "    y_train_cat[indx,i] = 1\n",
    "    \n",
    "y_test_cat = np.zeros([len(y_test),10])\n",
    "for indx, i in enumerate(y_test):\n",
    "    y_test_cat[indx,i] = 1"
   ]
  },
  {
   "cell_type": "code",
   "execution_count": 7,
   "metadata": {
    "scrolled": true
   },
   "outputs": [
    {
     "name": "stdout",
     "output_type": "stream",
     "text": [
      "Step  5 ; loss =  2.0523236\n",
      "Step  10 ; loss =  1.850361\n",
      "Step  15 ; loss =  1.6866728\n",
      "Step  20 ; loss =  1.5634259\n",
      "Step  25 ; loss =  1.4212048\n",
      "Step  30 ; loss =  1.3318068\n",
      "Step  35 ; loss =  1.2635645\n",
      "Step  40 ; loss =  1.2010399\n",
      "Step  45 ; loss =  1.0900592\n",
      "Step  50 ; loss =  1.0625271\n",
      "Step  55 ; loss =  1.03178\n",
      "Step  60 ; loss =  0.98822916\n",
      "Step  65 ; loss =  0.95582974\n",
      "Step  70 ; loss =  0.91665727\n",
      "Step  75 ; loss =  0.8916065\n",
      "Step  80 ; loss =  0.89224297\n",
      "Step  85 ; loss =  0.84702986\n",
      "Step  90 ; loss =  0.840543\n",
      "Step  95 ; loss =  0.8002339\n",
      "Step  100 ; loss =  0.7691212\n",
      "Step  105 ; loss =  0.79499143\n",
      "Step  110 ; loss =  0.77599543\n",
      "Step  115 ; loss =  0.7489029\n",
      "Step  120 ; loss =  0.7460679\n",
      "Step  125 ; loss =  0.7169943\n",
      "Step  130 ; loss =  0.7133452\n",
      "Step  135 ; loss =  0.70785743\n",
      "Step  140 ; loss =  0.73881555\n",
      "Step  145 ; loss =  0.6621627\n",
      "Step  150 ; loss =  0.67710686\n",
      "Step  155 ; loss =  0.6211371\n",
      "Step  160 ; loss =  0.6572284\n",
      "Step  165 ; loss =  0.68355066\n",
      "Step  170 ; loss =  0.66929424\n",
      "Step  175 ; loss =  0.68473506\n",
      "Step  180 ; loss =  0.62884927\n",
      "Step  185 ; loss =  0.6358695\n",
      "Step  190 ; loss =  0.64434725\n",
      "Step  195 ; loss =  0.6330913\n",
      "Step  200 ; loss =  0.619526\n",
      "Step  205 ; loss =  0.6110932\n",
      "Step  210 ; loss =  0.6067634\n",
      "Step  215 ; loss =  0.6142297\n",
      "Step  220 ; loss =  0.5753103\n",
      "Step  225 ; loss =  0.55674416\n",
      "Step  230 ; loss =  0.5846601\n",
      "Step  235 ; loss =  0.55054057\n",
      "Step  240 ; loss =  0.559694\n",
      "Step  245 ; loss =  0.5614491\n",
      "Step  250 ; loss =  0.5682779\n",
      "Step  255 ; loss =  0.54506373\n",
      "Step  260 ; loss =  0.5247164\n",
      "Step  265 ; loss =  0.53431225\n",
      "Step  270 ; loss =  0.5102964\n",
      "Step  275 ; loss =  0.5358309\n",
      "Step  280 ; loss =  0.53158486\n",
      "Step  285 ; loss =  0.5389679\n",
      "Step  290 ; loss =  0.5343373\n",
      "Step  295 ; loss =  0.53934616\n",
      "Step  300 ; loss =  0.53133184\n",
      "Step  305 ; loss =  0.49868235\n",
      "Step  310 ; loss =  0.5039905\n",
      "Step  315 ; loss =  0.5425219\n",
      "Step  320 ; loss =  0.5211672\n",
      "Step  325 ; loss =  0.5154751\n",
      "Step  330 ; loss =  0.5094852\n",
      "Step  335 ; loss =  0.5009706\n",
      "Step  340 ; loss =  0.52109694\n",
      "Step  345 ; loss =  0.5125268\n",
      "Step  350 ; loss =  0.49325076\n",
      "Step  355 ; loss =  0.5286365\n",
      "Step  360 ; loss =  0.50039333\n",
      "Step  365 ; loss =  0.48843017\n",
      "Step  370 ; loss =  0.4608072\n",
      "Step  375 ; loss =  0.49135122\n",
      "Step  380 ; loss =  0.51516587\n",
      "Step  385 ; loss =  0.497543\n",
      "Step  390 ; loss =  0.49048725\n",
      "Step  395 ; loss =  0.45592114\n",
      "Step  400 ; loss =  0.51146895\n",
      "Step  405 ; loss =  0.5223495\n",
      "Step  410 ; loss =  0.45885634\n",
      "Step  415 ; loss =  0.49621922\n",
      "Step  420 ; loss =  0.40530816\n",
      "Step  425 ; loss =  0.4605023\n",
      "Step  430 ; loss =  0.5011877\n",
      "Step  435 ; loss =  0.446287\n",
      "Step  440 ; loss =  0.5038978\n",
      "Step  445 ; loss =  0.50667965\n",
      "Step  450 ; loss =  0.47268406\n",
      "Step  455 ; loss =  0.46810377\n",
      "Step  460 ; loss =  0.47361875\n",
      "Step  465 ; loss =  0.4521687\n",
      "Step  470 ; loss =  0.45171034\n",
      "Step  475 ; loss =  0.4340079\n",
      "Step  480 ; loss =  0.48297048\n",
      "Step  485 ; loss =  0.49400562\n",
      "Step  490 ; loss =  0.42313245\n",
      "Step  495 ; loss =  0.46259314\n",
      "Step  500 ; loss =  0.45970288\n",
      "Step  505 ; loss =  0.4762854\n",
      "Step  510 ; loss =  0.42385912\n",
      "Step  515 ; loss =  0.4558947\n",
      "Step  520 ; loss =  0.4856336\n",
      "Step  525 ; loss =  0.46359295\n",
      "Step  530 ; loss =  0.4276478\n",
      "Step  535 ; loss =  0.45174825\n",
      "Step  540 ; loss =  0.478678\n",
      "Step  545 ; loss =  0.45752034\n",
      "Step  550 ; loss =  0.4388471\n",
      "Step  555 ; loss =  0.4119527\n",
      "Step  560 ; loss =  0.4269372\n",
      "Step  565 ; loss =  0.45826593\n",
      "Step  570 ; loss =  0.39726973\n",
      "Step  575 ; loss =  0.45306954\n",
      "Step  580 ; loss =  0.44766718\n",
      "Step  585 ; loss =  0.44418517\n",
      "Step  590 ; loss =  0.4280398\n",
      "Step  595 ; loss =  0.47544137\n",
      "Step  600 ; loss =  0.46165\n",
      "Step  605 ; loss =  0.45599076\n",
      "Step  610 ; loss =  0.4358001\n",
      "Step  615 ; loss =  0.4189347\n",
      "Step  620 ; loss =  0.48269036\n",
      "Step  625 ; loss =  0.46045694\n",
      "Step  630 ; loss =  0.46116003\n",
      "Step  635 ; loss =  0.3847556\n",
      "Step  640 ; loss =  0.41042042\n",
      "Step  645 ; loss =  0.467196\n",
      "Step  650 ; loss =  0.4161734\n",
      "Step  655 ; loss =  0.4209565\n",
      "Step  660 ; loss =  0.43430108\n",
      "Step  665 ; loss =  0.45293716\n",
      "Step  670 ; loss =  0.41832316\n",
      "Step  675 ; loss =  0.46671024\n",
      "Step  680 ; loss =  0.3926947\n",
      "Step  685 ; loss =  0.4396875\n",
      "Step  690 ; loss =  0.3913856\n",
      "Step  695 ; loss =  0.45745775\n",
      "Step  700 ; loss =  0.41161895\n",
      "Step  705 ; loss =  0.389222\n",
      "Step  710 ; loss =  0.3995133\n",
      "Step  715 ; loss =  0.3954016\n",
      "Step  720 ; loss =  0.39427897\n",
      "Step  725 ; loss =  0.4400049\n",
      "Step  730 ; loss =  0.37348473\n",
      "Step  735 ; loss =  0.44801238\n",
      "Step  740 ; loss =  0.45682794\n",
      "Step  745 ; loss =  0.43145922\n",
      "Step  750 ; loss =  0.40905833\n",
      "Step  755 ; loss =  0.4126585\n",
      "Step  760 ; loss =  0.39554912\n",
      "Step  765 ; loss =  0.44508314\n",
      "Step  770 ; loss =  0.40056834\n",
      "Step  775 ; loss =  0.40584075\n",
      "Step  780 ; loss =  0.40796012\n",
      "Step  785 ; loss =  0.39016646\n",
      "Step  790 ; loss =  0.43363285\n",
      "Step  795 ; loss =  0.4323627\n",
      "Step  800 ; loss =  0.42130178\n",
      "Step  805 ; loss =  0.4004998\n",
      "Step  810 ; loss =  0.3882106\n",
      "Step  815 ; loss =  0.45028996\n",
      "Step  820 ; loss =  0.4089036\n",
      "Step  825 ; loss =  0.3594937\n",
      "Step  830 ; loss =  0.38174623\n",
      "Step  835 ; loss =  0.40425628\n",
      "Step  840 ; loss =  0.4243487\n",
      "Step  845 ; loss =  0.45260242\n",
      "Step  850 ; loss =  0.43808526\n",
      "Step  855 ; loss =  0.3798967\n",
      "Step  860 ; loss =  0.41101918\n",
      "Step  865 ; loss =  0.4308724\n",
      "Step  870 ; loss =  0.4099022\n",
      "Step  875 ; loss =  0.40274474\n",
      "Step  880 ; loss =  0.45489472\n",
      "Step  885 ; loss =  0.38559586\n",
      "Step  890 ; loss =  0.41774487\n",
      "Step  895 ; loss =  0.40898398\n",
      "Step  900 ; loss =  0.3855942\n",
      "Step  905 ; loss =  0.33443558\n",
      "Step  910 ; loss =  0.38316217\n",
      "Step  915 ; loss =  0.40161997\n",
      "Step  920 ; loss =  0.36580727\n",
      "Step  925 ; loss =  0.38661042\n",
      "Step  930 ; loss =  0.39500466\n",
      "Step  935 ; loss =  0.42412278\n",
      "Step  940 ; loss =  0.39108557\n",
      "Step  945 ; loss =  0.37359837\n",
      "Step  950 ; loss =  0.37952393\n",
      "Step  955 ; loss =  0.37105677\n",
      "Step  960 ; loss =  0.4047389\n",
      "Step  965 ; loss =  0.40752062\n",
      "Step  970 ; loss =  0.42274633\n",
      "Step  975 ; loss =  0.39901966\n",
      "Step  980 ; loss =  0.38683286\n",
      "Step  985 ; loss =  0.3805901\n",
      "Step  990 ; loss =  0.3646684\n",
      "Step  995 ; loss =  0.40661147\n",
      "Step  1000 ; loss =  0.4165717\n"
     ]
    }
   ],
   "source": [
    "x_train_rs = x_train.reshape([-1, 784])\n",
    "sess = tf.Session()\n",
    "init = tf.global_variables_initializer()\n",
    "sess.run(init)\n",
    "\n",
    "optimizer = tf.train.GradientDescentOptimizer(0.05)\n",
    "train_step = optimizer.minimize(loss)\n",
    "\n",
    "batch_size = 1000\n",
    "loss_batch = []\n",
    "\n",
    "# Mini-batch gradient descent\n",
    "for i in range(1000):\n",
    "    rand_index = np.random.choice(n_samples, size=batch_size)\n",
    "    x_batch = x_train_rs[rand_index,:]\n",
    "    y_batch = y_train_cat[rand_index]\n",
    "    sess.run(train_step, feed_dict={x: x_batch, y_: y_batch})\n",
    "\n",
    "    if (i+1) % 5 == 0:\n",
    "        temp_loss = sess.run(loss, feed_dict={x: x_batch, y_:y_batch})\n",
    "        loss_batch.append(temp_loss)\n",
    "        print('Step ', str(i+1), '; loss = ', temp_loss)"
   ]
  },
  {
   "cell_type": "code",
   "execution_count": 8,
   "metadata": {},
   "outputs": [
    {
     "data": {
      "image/png": "[encoded data removed]",
      "text/plain": [
       "<Figure size 432x288 with 1 Axes>"
      ]
     },
     "metadata": {
      "needs_background": "light"
     },
     "output_type": "display_data"
    }
   ],
   "source": [
    "plt.plot(loss_batch)\n",
    "plt.show()"
   ]
  },
  {
   "cell_type": "code",
   "execution_count": 9,
   "metadata": {},
   "outputs": [
    {
     "name": "stdout",
     "output_type": "stream",
     "text": [
      "RMSE of predictions :  1.3386933928274989\n",
      "Accuracy of predictions :  0.9014\n"
     ]
    }
   ],
   "source": [
    "# Evaluation\n",
    "x_test_rs = x_test.reshape([-1, 784])\n",
    "y_pred = np.argmax(np.matmul(x_test_rs,sess.run(W))+sess.run(b),axis=1)\n",
    "test_rmse = np.sqrt(np.mean((y_pred - y_test)**2))\n",
    "test_accuracy = (y_test == y_pred).mean()\n",
    "print('RMSE of predictions : ', test_rmse)\n",
    "print('Accuracy of predictions : ', test_accuracy)\n"
   ]
  },
  {
   "cell_type": "code",
   "execution_count": 10,
   "metadata": {},
   "outputs": [
    {
     "data": {
      "text/plain": [
       "0.9014"
      ]
     },
     "execution_count": 10,
     "metadata": {},
     "output_type": "execute_result"
    }
   ],
   "source": [
    "(y_test == y_pred).mean()"
   ]
  },
  {
   "cell_type": "code",
   "execution_count": null,
   "metadata": {},
   "outputs": [],
   "source": []
  }
 ],
 "metadata": {
  "kernelspec": {
   "display_name": "Python 3",
   "language": "python",
   "name": "python3"
  },
  "language_info": {
   "codemirror_mode": {
    "name": "ipython",
    "version": 3
   },
   "file_extension": ".py",
   "mimetype": "text/x-python",
   "name": "python",
   "nbconvert_exporter": "python",
   "pygments_lexer": "ipython3",
   "version": "3.6.6"
  }
 },
 "nbformat": 4,
 "nbformat_minor": 2
}
